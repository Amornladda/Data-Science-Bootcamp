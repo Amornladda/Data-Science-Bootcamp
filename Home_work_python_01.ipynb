{
  "nbformat": 4,
  "nbformat_minor": 0,
  "metadata": {
    "colab": {
      "provenance": [],
      "authorship_tag": "ABX9TyPWDDEp8/uIIubR1xFppwgA",
      "include_colab_link": true
    },
    "kernelspec": {
      "name": "python3",
      "display_name": "Python 3"
    },
    "language_info": {
      "name": "python"
    }
  },
  "cells": [
    {
      "cell_type": "markdown",
      "metadata": {
        "id": "view-in-github",
        "colab_type": "text"
      },
      "source": [
        "<a href=\"https://colab.research.google.com/github/Amornladda/Data-Science-Bootcamp/blob/main/Home_work_python_01.ipynb\" target=\"_parent\"><img src=\"https://colab.research.google.com/assets/colab-badge.svg\" alt=\"Open In Colab\"/></a>"
      ]
    },
    {
      "cell_type": "markdown",
      "source": [
        "# Home Work 1 : pizza chatbot\n"
      ],
      "metadata": {
        "id": "lMALJDh4G0da"
      }
    },
    {
      "cell_type": "code",
      "source": [
        "import types\n",
        "def chatbot():\n",
        "    pizza_order = [\"sea food\", \"hawaiian\",\"doublecheeze\",\"peperoni\"]\n",
        "    size = [\"small\", \"medium\", \"large\"]\n",
        "    \n",
        "    order = {\n",
        "        \"type\": \" \",\n",
        "        \"size\": \" \",\n",
        "    }\n",
        "    print(\" Hello may i help you\")\n",
        "\n",
        "    while True:\n",
        "        types = input(\"Please choose pizza do you want? \")\n",
        "        if types in pizza_order:\n",
        "            print (types)\n",
        "        else:\n",
        "            print(\"Sorry not have in menu, Please choose new.\")\n",
        "            continue\n",
        "\n",
        "        while True:\n",
        "            sizes = input(\"Please choose size do you want? \")\n",
        "            if sizes in size:\n",
        "              print (types + sizes)\n",
        "            else:\n",
        "              print(\"Sorry not have in menu, Please choose new.\")\n",
        "              continue\n",
        "\n",
        "            print(\"Your order summary\")\n",
        "            print (types + sizes)\n",
        "            return order       "
      ],
      "metadata": {
        "id": "YH11zlvcDQ7h"
      },
      "execution_count": null,
      "outputs": []
    },
    {
      "cell_type": "code",
      "source": [
        "chatbot()"
      ],
      "metadata": {
        "id": "W0gmBUFpF9Uf"
      },
      "execution_count": null,
      "outputs": []
    },
    {
      "cell_type": "markdown",
      "source": [
        "# Home Work 2 : Pao Ting Chup"
      ],
      "metadata": {
        "id": "fjXU0jeLIRMx"
      }
    },
    {
      "cell_type": "code",
      "source": [
        "import random \n",
        "\n",
        "def pao_ying_chup():\n",
        "    item_list = [\"paper\", \"hammer\",\"scissors\"]\n",
        "    user_score = 0\n",
        "    bot_score = 0\n",
        "\n",
        "    print(\"Welcome to Pao Ying Chub Game hahaha !\")\n",
        "    print(\"You can choose one item\")\n",
        "\n",
        "    while True:\n",
        "        user_choose = input(\" Choose one 'paper', 'hammer', 'scissors' : \")\n",
        "        if user_choose == \"exit\":\n",
        "            print(\"score summary\")\n",
        "            print(f\"Your score {user_score}\")\n",
        "            print(f\"Bot score {bot_score}\")\n",
        "            print(\"Thanks for playing\")\n",
        "            break\n",
        "        elif user_choose not in item_list:\n",
        "            print(\"Please choose one in list\")\n",
        "            continue\n",
        "\n",
        "        bot_choose = random.choice(item_list)\n",
        "\n",
        "        if user_choose == bot_choose:\n",
        "            print(f\"your choice : {user_choose}\")\n",
        "            print(f\"bot choice: {bot_choose}\")\n",
        "            print(\"tie\")\n",
        "\n",
        "        elif user_choose == \"hammer\" and bot_choose == \"scissors\":\n",
        "            print(f\"your choice : {user_choose}\")\n",
        "            print(f\"bot choice: {bot_choose}\")\n",
        "            print(\"win\")\n",
        "\n",
        "        elif user_choose == \"scissors\" and bot_choose == \"paper\":\n",
        "            print(f\"your choice : {user_choose}\")\n",
        "            print(f\"bot choice: {bot_choose}\")\n",
        "            print(\"win\")\n",
        "\n",
        "        elif user_choose == \"paper\" and bot_choose == \"hammer\":\n",
        "            print(f\"your choice : {user_choose}\")\n",
        "            print(f\"bot choice: {bot_choose}\")\n",
        "            print(\"win\")\n",
        "\n",
        "        else:\n",
        "            print(f\"your choice : {user_choose}\")\n",
        "            print(f\"bot choice: {bot_choose}\")\n",
        "            print(\"your lose\")\n",
        "            bot_score += 1\n",
        "\n"
      ],
      "metadata": {
        "id": "Vb_7Bb1WMDrn"
      },
      "execution_count": null,
      "outputs": []
    },
    {
      "cell_type": "code",
      "source": [
        "pao_ying_chup()"
      ],
      "metadata": {
        "id": "8kFJALblOXMo"
      },
      "execution_count": null,
      "outputs": []
    },
    {
      "cell_type": "markdown",
      "source": [
        "# Home Work 3 : OOP ATM"
      ],
      "metadata": {
        "id": "IRsVBodpPOss"
      }
    },
    {
      "cell_type": "code",
      "source": [
        "class ATM:\n",
        "    def __init__(self, name, bank, balance):\n",
        "        self.name = name\n",
        "        self.bank = bank\n",
        "        self.balance = balance\n",
        "\n",
        "    def welcome(self):\n",
        "        print(f\"Hello {self.name}, Welcome to Bootmamp bank\")\n",
        "        print(\"Please enter amount\")\n",
        "\n",
        "    def deposit(self, amount):\n",
        "        self.balance += amount\n",
        "    \n",
        "    def withdraw(self, amount):\n",
        "        self.balance -= amount\n",
        "\n",
        "Kbank = ATM(\"nhor\", \"Kbank\", 100000)\n",
        "print(Kbank.balance)\n",
        "\n"
      ],
      "metadata": {
        "colab": {
          "base_uri": "https://localhost:8080/"
        },
        "id": "ADhBHlqKPhmU",
        "outputId": "db48a54f-de1f-4b37-c8e3-7f8583339997"
      },
      "execution_count": null,
      "outputs": [
        {
          "output_type": "stream",
          "name": "stdout",
          "text": [
            "100000\n"
          ]
        }
      ]
    },
    {
      "cell_type": "code",
      "source": [
        "Kbank.welcome()"
      ],
      "metadata": {
        "colab": {
          "base_uri": "https://localhost:8080/"
        },
        "id": "RtmKXkYcRONY",
        "outputId": "11bffd1e-628d-4ce1-f25f-91632ec21bc4"
      },
      "execution_count": null,
      "outputs": [
        {
          "output_type": "stream",
          "name": "stdout",
          "text": [
            "Hello nhor, Welcome to Bootmamp bank\n",
            "Please enter amount\n"
          ]
        }
      ]
    },
    {
      "cell_type": "code",
      "source": [
        "Kbank.deposit(100000)\n",
        "print(Kbank.balance)"
      ],
      "metadata": {
        "colab": {
          "base_uri": "https://localhost:8080/"
        },
        "id": "dEeBrVKvRm2L",
        "outputId": "4e01e7f5-b454-4497-9572-28caf252bb8f"
      },
      "execution_count": null,
      "outputs": [
        {
          "output_type": "stream",
          "name": "stdout",
          "text": [
            "200000\n"
          ]
        }
      ]
    },
    {
      "cell_type": "code",
      "source": [
        "Kbank.withdraw(50000)\n",
        "print(Kbank.balance)"
      ],
      "metadata": {
        "colab": {
          "base_uri": "https://localhost:8080/"
        },
        "id": "OrnYdgSbSC_W",
        "outputId": "0e68c5db-3eac-42a8-f403-f9a78dfc4eb1"
      },
      "execution_count": null,
      "outputs": [
        {
          "output_type": "stream",
          "name": "stdout",
          "text": [
            "150000\n"
          ]
        }
      ]
    },
    {
      "cell_type": "code",
      "source": [],
      "metadata": {
        "id": "r5E6ToUWSKAi"
      },
      "execution_count": null,
      "outputs": []
    }
  ]
}